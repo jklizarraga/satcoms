{
  "cells": [
    {
      "cell_type": "code",
      "source": [
        "using Units"
      ],
      "outputs": [
        {
          "output_type": "stream",
          "name": "stderr",
          "text": [
            "┌ Info: Recompiling stale cache file /Users/jlizarraga/.julia/compiled/v1.0/Units/fBxJC.ji for Units [e118339a-c993-11e8-3139-b11bd8eb6de4]\n",
            "└ @ Base loading.jl:1187\n",
            "WARNING: using Units.SIBaseUnit in module Main conflicts with an existing identifier.\n"
          ]
        }
      ],
      "execution_count": 28,
      "metadata": {
        "collapsed": false,
        "outputHidden": false,
        "inputHidden": false
      }
    },
    {
      "cell_type": "code",
      "source": [
        "struct SIBaseUnit{m,kg,s,A,K,mol,cd} #<: SIBaseUnits\n",
        "    SIBaseUnit{m,kg,s,A,K,mol,cd}() where {m,kg,s,A,K,mol,cd} = isa((m,kg,s,A,K,mol,cd), NTuple{7,Int}) ? new() : error(\"An SIBaseUnit{m,kg,s,A,K,mol,cd} can only be constructed with integers\")\n",
        "end\n",
        "# struct SIBaseUnit{m<:Int,kg<:Int,s<:Int,A<:Int,K<:Int,mol<:Int,cd<:Int} expects m <: Type{Int} where typeof(m)::DataType NOT isa(m,Int)"
      ],
      "outputs": [
        {
          "output_type": "error",
          "ename": "ErrorException",
          "evalue": "syntax: invalid variable expression in \"where\"",
          "traceback": [
            "syntax: invalid variable expression in \"where\"",
            ""
          ]
        }
      ],
      "execution_count": 33,
      "metadata": {
        "collapsed": false,
        "outputHidden": false,
        "inputHidden": false
      }
    },
    {
      "cell_type": "code",
      "source": [
        "struct SIBaseUnit{T <: Array{Int,7}} #<: SIBaseUnits\n",
        "    \n",
        "end"
      ],
      "outputs": [],
      "execution_count": 1,
      "metadata": {
        "collapsed": false,
        "outputHidden": false,
        "inputHidden": false
      }
    },
    {
      "cell_type": "code",
      "source": [
        "siArray = [\"m\",\"kg\",\"s\",\"A\",\"K\",\"mol\",\"cd\"]\n",
        "siTuple = tuple(Symbol.(siArray.*\"_i\")...)\n",
        "siUnit  = :(SIBaseUnit{$(siTuple...)})\n",
        "\n",
        "siArray1 = siArray.*\"1\"\n",
        "siTuple1 = tuple(Symbol.(siArray1)...)\n",
        "siUnit1  = :(SIBaseUnit{$(siTuple1...)})\n",
        "\n",
        "siArray2 = siArray.*\"2\"\n",
        "siTuple2 = tuple(Symbol.(siArray2)...)\n",
        "siUnit2  = :(SIBaseUnit{$(siTuple2...)})\n",
        "\n",
        "siTuple1Tuple2 = (siTuple1...,siTuple2...)\n",
        "siTupleResult = Dict(:* => :([$(Symbol.(siArray1)...)] .+ [$(Symbol.(siArray2)...)]), # -> :([m1, kg1, s1, A1, K1, mol1, cd1] .+ [m2, kg2, s2, A2, K2, mol2, cd2])\n",
        "                     :/ => :([$(Symbol.(siArray1)...)] .- [$(Symbol.(siArray2)...)]),\n",
        "                     :\\ => :([$(Symbol.(siArray2)...)] .- [$(Symbol.(siArray1)...)]))"
      ],
      "outputs": [
        {
          "output_type": "execute_result",
          "execution_count": 5,
          "data": {
            "text/plain": [
              "Dict{Symbol,Expr} with 3 entries:\n",
              "  :\\ => :([m2, kg2, s2, A2, K2, mol2, cd2] .- [m1, kg1, s1, A1, K1, mol1, cd1])\n",
              "  :/ => :([m1, kg1, s1, A1, K1, mol1, cd1] .- [m2, kg2, s2, A2, K2, mol2, cd2])\n",
              "  :* => :([m1, kg1, s1, A1, K1, mol1, cd1] .+ [m2, kg2, s2, A2, K2, mol2, cd2])"
            ]
          },
          "metadata": {}
        }
      ],
      "execution_count": 5,
      "metadata": {
        "collapsed": false,
        "outputHidden": false,
        "inputHidden": false
      }
    },
    {
      "cell_type": "code",
      "source": [
        "siTupleResult = Dict(:* => Meta.parse(join(siArray1 .* \"+\" .* siArray2, \",\")), # -> :((m1 + m2, kg1 + kg2, s1 + s2, A1 + A2, K1 + K2, mol1 + mol2, cd1 + cd2))\n",
        "                     :/ => Meta.parse(join(siArray1 .* \"-\" .* siArray2, \",\")),\n",
        "                     :\\ => Meta.parse(join(siArray2 .* \"-\" .* siArray1, \",\")))"
      ],
      "outputs": [
        {
          "output_type": "execute_result",
          "execution_count": 13,
          "data": {
            "text/plain": [
              "Dict{Symbol,Expr} with 3 entries:\n",
              "  :\\ => :((m2 - m1, kg2 - kg1, s2 - s1, A2 - A1, K2 - K1, mol2 - mol1, cd2 - cd…\n",
              "  :/ => :((m1 - m2, kg1 - kg2, s1 - s2, A1 - A2, K1 - K2, mol1 - mol2, cd1 - cd…\n",
              "  :* => :((m1 + m2, kg1 + kg2, s1 + s2, A1 + A2, K1 + K2, mol1 + mol2, cd1 + cd…"
            ]
          },
          "metadata": {}
        }
      ],
      "execution_count": 13,
      "metadata": {
        "collapsed": false,
        "outputHidden": false,
        "inputHidden": false
      }
    },
    {
      "cell_type": "code",
      "source": [
        "print(typeof(siArray1 .* \"+\" .* siArray2))\n",
        "print(siArray1 .* \"+\" .* siArray2)"
      ],
      "outputs": [
        {
          "output_type": "stream",
          "name": "stdout",
          "text": [
            "Array{String,1}[\"m1+m2\", \"kg1+kg2\", \"s1+s2\", \"A1+A2\", \"K1+K2\", \"mol1+mol2\", \"cd1+cd2\"]"
          ]
        }
      ],
      "execution_count": 15,
      "metadata": {
        "collapsed": false,
        "outputHidden": false,
        "inputHidden": false
      }
    },
    {
      "cell_type": "code",
      "source": [
        "# For either case the following code works:\n",
        "\n",
        "for op in (:*, :/, :\\)\n",
        "   @eval $op( ::Type{$siUnit1}, ::Type{$siUnit2}) where {$(siTuple1Tuple2...)} = SIBaseUnit{$(siTupleResult[op])...}\n",
        "   @eval $op( ::Type{$siUnit1},y::$siUnit2      ) where {$(siTuple1Tuple2...)} = SIBaseUnit{$(siTupleResult[op])...}\n",
        "   @eval $op(x::$siUnit1      , ::Type{$siUnit2}) where {$(siTuple1Tuple2...)} = SIBaseUnit{$(siTupleResult[op])...}\n",
        "   @eval $op(x::$siUnit1      ,y::$siUnit2      ) where {$(siTuple1Tuple2...)} = SIBaseUnit{$(siTupleResult[op])...}\n",
        "end"
      ],
      "outputs": [
        {
          "output_type": "error",
          "ename": "ErrorException",
          "evalue": "error in method definition: function Base.* must be explicitly imported to be extended",
          "traceback": [
            "error in method definition: function Base.* must be explicitly imported to be extended",
            "",
            "Stacktrace:",
            " [1] top-level scope at none:0",
            " [2] eval at ./boot.jl:319 [inlined]",
            " [3] top-level scope at ./In[8]:4"
          ]
        }
      ],
      "execution_count": 8,
      "metadata": {
        "collapsed": false,
        "outputHidden": false,
        "inputHidden": false
      }
    },
    {
      "cell_type": "code",
      "source": [
        "# This code ...\n",
        "for i in 1:2\n",
        "   siArrayX, siTupleX, siUnitX  = Symbol(\"siArray\"*repr(i)), Symbol(\"siTuple\"*repr(i)), Symbol(\"siUnit\" *repr(i))\n",
        "   @eval $siArrayX = siArray.*$(repr(i))\n",
        "   @eval $siTupleX = tuple(Symbol.($siArrayX)...)\n",
        "   @eval $siUnitX  = :(SIBaseUnit{$(($siTupleX)...)})\n",
        "end\n",
        "\n",
        "# Produces this code\n",
        "siArray1 = siArray.*\"1\"\n",
        "siTuple1 = tuple(Symbol.(siArray1)...)\n",
        "siUnit1  = :(SIBaseUnit{$(siTuple1...)})\n",
        "\n",
        "siArray2 = siArray.*\"2\"\n",
        "siTuple2 = tuple(Symbol.(siArray2)...)\n",
        "siUnit2  = :(SIBaseUnit{$(siTuple2...)})"
      ],
      "outputs": [],
      "execution_count": 11,
      "metadata": {
        "collapsed": false,
        "outputHidden": false,
        "inputHidden": false
      }
    },
    {
      "cell_type": "code",
      "source": [
        "siUnit3"
      ],
      "outputs": [
        {
          "output_type": "execute_result",
          "execution_count": 12,
          "data": {
            "text/plain": [
              ":(SIBaseUnit{m3, kg3, s3, A3, K3, mol3, cd3})"
            ]
          },
          "metadata": {}
        }
      ],
      "execution_count": 12,
      "metadata": {
        "collapsed": false,
        "outputHidden": false,
        "inputHidden": false
      }
    },
    {
      "cell_type": "code",
      "source": [
        "macro generateshowcode(suffix, tupleOfUnits...) # ... denotes a variable number of arguments.\n",
        "   expressionsArray = []\n",
        "   for unit in tupleOfUnits\n",
        "      functionParameter = Symbol(unit,suffix)\n",
        "      ex = esc(:($functionParameter ≠ 0 && print(io, $(String(unit)), ($functionParameter == 1 ? ' ' : tosuperscript($functionParameter)))))\n",
        "      push!(expressionsArray, ex)\n",
        "   end\n",
        "\n",
        "   return quote $(tuple(expressionsArray...)...) end\n",
        "end\n",
        "\n",
        "   # The code above generates the code under when called with @generateshowcode(\"_i\", m,kg,s,A,K,mol,cd)\n",
        "   #   m_i ≠ 0 && print(io, \"m\"  , (  m_i == 1 ? ' ' : tosuperscript(  m_i)))\n",
        "   #  kg_i ≠ 0 && print(io, \"kg\" , ( kg_i == 1 ? ' ' : tosuperscript( kg_i)))\n",
        "   #   s_i ≠ 0 && print(io, \"s\"  , (  s_i == 1 ? ' ' : tosuperscript(  s_i)))\n",
        "   #   A_i ≠ 0 && print(io, \"A\"  , (  A_i == 1 ? ' ' : tosuperscript(  A_i)))\n",
        "   #   K_i ≠ 0 && print(io, \"K\"  , (  K_i == 1 ? ' ' : tosuperscript(  K_i)))\n",
        "   # mol_i ≠ 0 && print(io, \"mol\", (mol_i == 1 ? ' ' : tosuperscript(mol_i)))\n",
        "   #  cd_i ≠ 0 && print(io, \"cd\" , ( cd_i == 1 ? ' ' : tosuperscript( cd_i)))"
      ],
      "outputs": [],
      "execution_count": null,
      "metadata": {
        "collapsed": false,
        "outputHidden": false,
        "inputHidden": false
      }
    },
    {
      "cell_type": "code",
      "source": [
        "siArrayBase    = [\"m\",\"kg\",\"s\",\"A\",\"K\",\"mol\",\"cd\"]\n",
        "suffixVariable = [\"\"  ,\"1\",\"2\"]\n",
        "suffixTuple    = [\"_i\",\"1\",\"2\"]\n",
        "\n",
        "for i in 1:length(suffixVariable)\n",
        "   siArrayX, siTupleX, siUnitX  = Symbol(\"siArray\"*suffixVariable[i]), Symbol(\"siTuple\"*suffixVariable[i]), Symbol(\"siUnit\" *suffixVariable[i])\n",
        "   @eval $siArrayX = siArrayBase.*$(suffixTuple[i])\n",
        "   @eval $siTupleX = tuple(Symbol.($siArrayX)...)\n",
        "   @eval $siUnitX  = :(SIBaseUnit{$(($siTupleX)...)})\n",
        "end"
      ],
      "outputs": [],
      "execution_count": 16,
      "metadata": {
        "collapsed": false,
        "outputHidden": false,
        "inputHidden": false
      }
    },
    {
      "cell_type": "code",
      "source": [
        "# Benchmarking\n",
        "\n",
        "include(\"Angles.jl\")\n",
        "using Main.Angles\n",
        "using Statistics\n",
        "S = 10\n",
        "N = 10000\n",
        "t = zeros(Float64,S)\n",
        "tref = zeros(Float64,S)\n",
        "for i in 1:S\n",
        "    s  = 2^i\n",
        "\n",
        "    m1 = rand(s,s)\n",
        "    m2 = rand(s,s)\n",
        "    m3 = (m1)deg\n",
        "    m4 = (m2)deg\n",
        "    @elapsed m1+m2\n",
        "    @elapsed m3+m4\n",
        "\n",
        "    for j in 1:N\n",
        "      tref[i] += @elapsed m1+m2\n",
        "      t[i]    += @elapsed m3+m4\n",
        "    end\n",
        "\n",
        "    tref[i] /= N\n",
        "    t[i] /= N\n",
        "\n",
        "end\n",
        "println(t./tref)\n",
        "println(mean(t./tref))\n",
        "\n",
        "# Results for S=10, N=1000\n",
        "# [0.963113, 0.996702, 0.719338, 1.21352, 1.03335, 0.971611, 0.992234, 0.772692, 0.998298, 1.00277]\n",
        "# 0.966362453606228\n",
        "# Results for S=10, N=10000\n",
        "# [0.987338, 0.989298, 0.497516, 1.18991, 0.931941, 0.981512, 1.00617, 1.29759, 1.00667, 0.999558]\n",
        "# 0.9887505207007307"
      ],
      "outputs": [
        {
          "output_type": "execute_result",
          "execution_count": 27,
          "data": {
            "text/plain": [
              ":(SIBaseUnit{m2, kg2, s2, A2, K2, mol2, cd2})"
            ]
          },
          "metadata": {}
        }
      ],
      "execution_count": 27,
      "metadata": {
        "collapsed": false,
        "outputHidden": false,
        "inputHidden": false
      }
    },
    {
      "cell_type": "code",
      "source": [
        "# METAPROGRAMMING\n",
        "#\n",
        "# @eval $(ex) == eval(ex)\n",
        "#\n",
        "#\n",
        "# AST: (call f x) -> Expr(:call, :f, :x)\n",
        "# import Base: x, y\t-> AST: (import (: (. Base) (. x) (. y))) -> Expr(:import, (:(:), (:., :Base), (:., :x), (:., :y)))\n",
        "\n",
        "u = :m\n",
        "m_i = 5\n",
        "sy = Symbol(u,\"_i\")\n",
        "io = stdout\n",
        "\n",
        "@eval $(println(u,\"=\")) # -- m=\n",
        "@macroexpand @eval $(println(u,\"=\")) # --> :((Base.Core).eval(Main, println(u, \"=\")))\n",
        "@eval $(quote println(u,\"=\") end) # --> m=\n",
        "@macroexpand @eval $(quote println(u,\"=\") end)  # --> :((Base.Core).eval(Main, $(Expr(:copyast, :($(QuoteNode(quote\n",
        "                                                #         #= none:1 =#\n",
        "                                                #         println(u, \"=\")\n",
        "                                                #     end)))))))\n",
        "\n",
        "@eval $(println(u,\"=\",sy)) # --> m=m_i\n",
        "@macroexpand @eval $(println(u,\"=\",sy)) # :((Base.Core).eval(Main, println(u, \"=\", sy)))\n",
        "@eval $(quote println(u,\"=\",$sy) end) # m=5\n",
        "@macroexpand @eval $(quote println(u,\"=\",$sy) end) # :((Base.Core).eval(Main, (Core._expr)(:block, $(QuoteNode(:(#= none:1 =#))), (Core._expr)(:call, :println, :u, \"=\", sy))))\n",
        "@eval $(quote println(u,\"=\",$(Symbol(u,\"_i\"))) end) # m=5\n",
        "@macroexpand @eval $(quote println(u,\"=\",$(Symbol(u,\"_i\"))) end)\n",
        "\n",
        "# IMPORTANT: The error is to put the @eval in the for-block of a FUNCTION! Remeber macros are expanded at compilation time not at runtime.s\n",
        "function f(io::IO, m_i::Int, kg_i::Int, s_i::Int, A_i::Int, K_i::Int, mol_i::Int, cd_i::Int)\n",
        "  for u in (:m,:kg,:s,:A,:K,:mol,:cd)\n",
        "      print(@macroexpand @eval println(io,u,\"=\"))\n",
        "      print(\"   \")\n",
        "      print(@macroexpand @eval println($io,$u,\"=\"))\n",
        "      print(\"   \")\n",
        "      println(u)\n",
        "      @eval println($io,u,\"=\")\n",
        "  end\n",
        "end\n",
        "\n",
        "# Expressions can be cascaded in an array of expressions and then converted to a tuple for execution. Maybe a begin-block or the \";\" could do the trick also.\n",
        "extup = (:(x = 3),:(y = 5))\n",
        "ex = quote $(extup...) end\n",
        "eval(ex)\n",
        "\n",
        "exarr = [:(x = 3),:(y = 5)]\n",
        "push!(exarr, :(x+y))\n",
        "ex = quote $(tuple(exarr...)...) end\n",
        "eval(ex)\n",
        "\n",
        "u = :m\n",
        "m = 5\n",
        ":(print(u))\n",
        ":(print($u))\n"
      ],
      "outputs": [],
      "execution_count": null,
      "metadata": {
        "collapsed": false,
        "outputHidden": false,
        "inputHidden": false
      }
    },
    {
      "cell_type": "code",
      "source": [
        "# isdefined(Base, :__precompile__) && __precompile__()\n",
        "\n",
        "baremodule TestModule\n",
        "\n",
        "using Base\n",
        "export teststruct\n",
        "\n",
        "eval(x) = Core.eval(Mod, x)\n",
        "include(p) = Base.include(Mod, p)\n",
        "\n",
        "# struct teststruct{T<:Int, S<:Float64}\n",
        "#   x::T\n",
        "#   y::S\n",
        "# end\n",
        "\n",
        "# struct teststruct{T}\n",
        "#   teststruct{T}() where T = isa(T, Int) ? new() : error(\"teststruct can only be constructed with integers\")\n",
        "# end\n",
        "\n",
        "struct teststruct{m<:Int,kg<:Int,s<:Int,A<:Int,K<:Int,mol<:Int,cd<:Int}\n",
        "  # teststruct{T}() where T = isa(T, Int) ? new() : error(\"teststruct can only be constructed with integers\")\n",
        "end\n",
        "# (::Type{teststruct{t}})() where {t<:Int} = teststruct{t}()\n",
        "# (::Type{teststruct{t}})() where {t>:Int} = errormessage(\"Error\")\n",
        "# teststruct(t::T) where {T<:Int} = teststruct{t}\n",
        "# teststruct(t::T) where {T>:Int} = errormessage(\"Error\")\n",
        "\n",
        "end\n",
        "\n",
        "using Main.TestModule\n",
        "teststruct{1}()\n",
        "teststruct{1.5}()\n",
        "\n",
        "baremodule TestModule\n",
        "\n",
        "using Base\n",
        "export teststruct\n",
        "\n",
        "eval(x) = Core.eval(Mod, x)\n",
        "include(p) = Base.include(Mod, p)\n",
        "\n",
        "teststruct = Tuple{Vararg{Int,7}}\n",
        "\n",
        "end\n",
        "\n",
        "using Main.TestModule\n",
        "teststruct(0,0,0,0,0,0,0)\n",
        "\n",
        "# Usage in REPL:\n",
        "include(\"Angles.jl\")\n",
        "using Main.Angles\n",
        "for op in Main.Angles.operationsInverse\n",
        "  @eval $op(x::Real) = Main.Angles.$op(x)\n",
        "end\n",
        "\n",
        "############################\n",
        "\n",
        "using Units\n",
        "SIQuantity(0, scalar)\n",
        "Units.SIQuantitiesPkg.SIQuantity(0, Units.SIBaseUnitsPkg.scalar)\n",
        "SIQuanity(x::T,u::SIBaseUnit) where {T<:Number} = Units.SIQuantitiesPkg.SIQuanity{T,typeof(u)}(x)\n",
        "Units.SIQuantitiesPkg.ScalarQuantity(0)\n",
        "\n",
        "using Units\n",
        "\n",
        "import Base: +\n",
        "siArray = [\"m\",\"kg\",\"s\",\"A\",\"K\",\"mol\",\"cd\"]\n",
        "siTuple = tuple(Symbol.(siArray.*\"_i\")...)\n",
        "siUnit  = :(SIBaseUnit{$(siTuple...)})\n",
        "op = :+\n",
        "\n",
        "@eval $op(x::$siUnit,y::$siUnit) where {$(siTuple...)} = $siUnit\n",
        "\n",
        "m()+m()\n",
        "\n",
        "@macroexpand @eval SIBaseUnit{$(siTuple...)}\n",
        ":((Base.Core).eval(Main, (Core._expr)(:quote, (Core._expr)(:curly, :SIBaseUnit, (Core._expr)(:$, $(Expr(:copyast, :($(QuoteNode(:(siTuple...)))))))))))\n",
        "\n",
        "siTuple2 = expr(:$,QuoteNode(:(siTuple...)))\n",
        "# :($(QuoteNode(:(siTuple...))))\n",
        "# siTuple2 = :($(QuoteNode(:(siTuple...))))\n",
        "siTuple2 = Expr(:copyast, :($(QuoteNode(:(siTuple...)))))\n",
        "siTuple2 = :({$(siTuple...)})\n",
        "siUnit2  = :(SIBaseUnit{$siTuple2})\n",
        "\n",
        "@macroexpand @eval $op(x::SIBaseUnit{$siTuple},y::SIBaseUnit{$siTuple}) where {$(siTuple...)} = SIBaseUnit{$siTuple}\n",
        "\n",
        "using Units\n",
        "\n",
        "import Base: +\n",
        "siArray = [\"m\",\"kg\",\"s\",\"A\",\"K\",\"mol\",\"cd\"]\n",
        "siTuple = tuple(Symbol.(siArray.*\"_i\")...)\n",
        "siUnit  = :(SIBaseUnit{$(siTuple...)})\n",
        "\n",
        "siArray1 = siArray.*\"1\"\n",
        "siTuple1 = tuple(Symbol.(siArray1)...)\n",
        "siUnit1  = :(SIBaseUnit{$(siTuple1...)})\n",
        "\n",
        "siArray2 = siArray.*\"2\"\n",
        "siTuple2 = tuple(Symbol.(siArray2)...)\n",
        "siUnit2  = :(SIBaseUnit{$(siTuple2...)})\n",
        "\n",
        "siTuple1Tuple2 = (siTuple1...,siTuple2...)\n",
        "\n",
        "m1 = m2 = 1\n",
        "kg1=s1=A1=K1=mol1=cd1 = kg2=s2=A2=K2=mol2=cd2 = 0\n",
        "\n",
        "ex = :([$(Symbol.(siArray1)...)] .+ [$(Symbol.(siArray2)...)])\n",
        "eval(ex)\n",
        "\n",
        "siTupleResult = Dict(:* => :([$(Symbol.(siArray1)...)] .+ [$(Symbol.(siArray2)...)]),\n",
        "                     :/ => :([$(Symbol.(siArray1)...)] .- [$(Symbol.(siArray2)...)]),\n",
        "                     :\\ => :([$(Symbol.(siArray2)...)] .- [$(Symbol.(siArray1)...)]))\n",
        "\n",
        "ex = (Meta.parse(\"(\"*join(siArray1 .* \"+\" .* siArray2, \",\")*\")\"))\n",
        "ex = Meta.parse(join(siArray1 .* \"+\" .* siArray2, \",\"))\n",
        "\n",
        "Meta.parse(siArray1 .* \"+\" .* siArray2)\n",
        "# siTupleResult = Dict(:* => tuple(Symbol.(siArray1 .* \"+\" .* siArray2)...),\n",
        "#                      :/ => tuple(Symbol.(siArray1 .* \"-\" .* siArray2)...),\n",
        "#                      :\\ => tuple(Symbol.(siArray2 .* \"-\" .* siArray1)...))\n",
        "\n",
        "op = :*\n",
        "\n",
        "ex = :($op( ::Type{$siUnit1}, ::Type{$siUnit2}) where {$(siTuple1Tuple2...)} = SIBaseUnit{($siTupleResult[op])...})\n",
        "\n",
        "@macroexpand @eval $op( ::Type{siUnit1}, ::Type{siUnit2}) where {$(siTuple1...,siTuple2...)} = SIBaseUnit{$(siTupleResult[op]...)}\n",
        "\n",
        "ex = Meta.parse(\"*(x::SIBaseUnit{m1,kg1,s1,A1,K1,mol1,cd1},y::SIBaseUnit{m2,kg2,s2,A2,K2,mol2,cd2}) where {m1,kg1,s1,A1,K1,mol1,cd1,m2,kg2,s2,A2,K2,mol2,cd2} = SIBaseUnit{m1+m2,kg1+kg2,s1+s2,A1+A2,K1+K2,mol1+mol2,cd1+cd2}\")\n",
        "\n\n",
        "limit = 1e7\n",
        "@time [^(SIUnit{1,2,3,4,5,6,7,8,9}(),20) for i=1:limit]\n",
        "@time [SIBaseUnits.power(SIUnit{1,2,3,4,5,6,7,8,9}(),20) for i=1:limit]\n",
        "\n",
        "unit = SIUnit{100,4,3,2,1,-1,-2,-3,-4}()\n",
        "val = 15\n",
        "quant = SIQuantity{typeof(val),1,2,3,4,5,6,7,8,9}(val)\n",
        "\n",
        "siquantity(TypeVar(:Float64), unit)\n",
        "typeof(unit)\n",
        "typeof(typeof(unit))\n",
        "\n",
        "@siquantity(Float64, unit)\n",
        "\n",
        "val = 1.0\n",
        "quant = SIQuantity{typeof(val),1,2,3,4,5,6,7,8,9}(val)\n",
        "siquantity(TypeVar(:Int64), quant)\n",
        "\n",
        "val = 100\n",
        "quant = SIQuantity{typeof(val),1,2,3,4,5,6,7,8,9}(val)\n",
        "@which(one(quant))\n",
        "@which(one(SIQuantity{typeof(val),1,2,3,4,5,6,7,8,9}))\n",
        "\n",
        "# macro parametersandvalues(tup...)\n",
        "#     ex = esc(quote\n",
        "#             parameter = $(map(x -> string(x),tup))\n",
        "#             value     = $tup\n",
        "#          end)\n",
        "#     return ex\n",
        "# end\n",
        "\n",
        "# This macro is capable of generating specialised code when called with the \"actual\"\n",
        "# arguments (values not parameters) at execution time. However, the value of the\n",
        "# parameters is not available at parse time therefore a macro generating generic\n",
        "# code is needed.\n",
        "# macro buildnumandden(units, val)\n",
        "#     evaluationstring = \"\"\n",
        "#     u = eval(units)\n",
        "#     v = eval(val)\n",
        "#\n",
        "#     for index = 1:length(v)\n",
        "#         if v[index] != 0\n",
        "#              leadingstring = (v[index] > 0) ?  \"num\" : \"den\"\n",
        "#                 unitstring = \"\\\\text{$(u[index])\\}\"\n",
        "#            trainlingstring = (abs(v[index]) == 1) ? \" \" : \"^{$(abs(v[index]))}\"\n",
        "#                 codestring = \"push!($leadingstring,\\\"$(string(unitstring,trainlingstring))\\\")\"\n",
        "#           evaluationstring = string(evaluationstring, codestring, \"\\n\")\n",
        "#         end\n",
        "#     end\n",
        "#     #println(evaluationstring)\n",
        "#     return parse(\"quote\\n$evaluationstring\\nend\")\n",
        "# end\n",
        "\n\n",
        "include(\"./src/Angles.jl\")\n",
        "using Main.Angles\n",
        "for op in Main.Angles.operationsTrigoInverse\n",
        "  @eval $op(x::Real) = Main.Angles.$op(x)\n",
        "end\n"
      ],
      "outputs": [],
      "execution_count": null,
      "metadata": {
        "collapsed": false,
        "outputHidden": false,
        "inputHidden": false
      }
    }
  ],
  "metadata": {
    "kernel_info": {
      "name": "julia-1.0"
    },
    "language_info": {
      "file_extension": ".jl",
      "name": "julia",
      "mimetype": "application/julia",
      "version": "1.0.1"
    },
    "kernelspec": {
      "name": "julia-1.0",
      "language": "julia",
      "display_name": "Julia 1.0.0"
    },
    "nteract": {
      "version": "0.11.9"
    }
  },
  "nbformat": 4,
  "nbformat_minor": 4
}